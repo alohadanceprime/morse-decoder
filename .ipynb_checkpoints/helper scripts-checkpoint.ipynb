{
 "cells": [
  {
   "cell_type": "markdown",
   "id": "4e0ee3dd-785d-4cb7-9af9-a1dfad5a57bf",
   "metadata": {},
   "source": [
    "Поменять opus на npy в тренировочном наборе"
   ]
  },
  {
   "cell_type": "code",
   "execution_count": null,
   "id": "2430f45b-9c5f-43c2-9ed2-1e4efef5ff64",
   "metadata": {},
   "outputs": [],
   "source": [
    "import pandas as pd\n",
    "\n",
    "df = pd.read_csv(\"train.csv\") \n",
    "df[\"id\"] = df[\"id\"].str.replace(r\"\\.opus$\", \".npy\", regex=True)\n",
    "df.to_csv(\"train.csv\", index=False)\n"
   ]
  },
  {
   "cell_type": "markdown",
   "id": "86efe4d3-1722-4e93-a2b9-19f1aa2895de",
   "metadata": {},
   "source": [
    "То же самое для тест набора"
   ]
  },
  {
   "cell_type": "code",
   "execution_count": null,
   "id": "6cbad4c1-214e-4d68-864a-628cd0047825",
   "metadata": {},
   "outputs": [],
   "source": [
    "import pandas as pd\n",
    "\n",
    "df = pd.read_csv(\"test.csv\") \n",
    "df[\"id\"] = df[\"id\"].str.replace(r\"\\.opus$\", \".npy\", regex=True)\n",
    "df.to_csv(\"test.csv\", index=False)\n"
   ]
  },
  {
   "cell_type": "markdown",
   "id": "258497bd-9052-4b72-b672-270d45348d57",
   "metadata": {},
   "source": [
    "Поменять npy на opus в предсказаниях"
   ]
  },
  {
   "cell_type": "code",
   "execution_count": null,
   "id": "275991e7-ed65-440d-a36c-69093d944f3c",
   "metadata": {},
   "outputs": [],
   "source": [
    "import pandas as pd\n",
    "\n",
    "df = pd.read_csv(\"predictions.csv\")\n",
    "df[\"id\"] = df[\"id\"].str.replace(r\"\\.npy$\", \".opus\", regex=True)\n",
    "df.to_csv(\"predictions.csv\", index=False)"
   ]
  },
  {
   "cell_type": "code",
   "execution_count": null,
   "id": "f1008de8-28a6-468b-a40f-1d3957d7cf68",
   "metadata": {},
   "outputs": [],
   "source": []
  }
 ],
 "metadata": {
  "kernelspec": {
   "display_name": "Python 3 (ipykernel)",
   "language": "python",
   "name": "python3"
  },
  "language_info": {
   "codemirror_mode": {
    "name": "ipython",
    "version": 3
   },
   "file_extension": ".py",
   "mimetype": "text/x-python",
   "name": "python",
   "nbconvert_exporter": "python",
   "pygments_lexer": "ipython3",
   "version": "3.12.4"
  }
 },
 "nbformat": 4,
 "nbformat_minor": 5
}
